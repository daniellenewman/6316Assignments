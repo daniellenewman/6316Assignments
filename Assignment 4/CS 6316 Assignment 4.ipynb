{
 "cells": [
  {
   "cell_type": "markdown",
   "metadata": {},
   "source": [
    "# Assignment 4: Benchmarking Fashion-MNIST with ANN"
   ]
  },
  {
   "cell_type": "markdown",
   "metadata": {},
   "source": [
    "### CS 6316 Machine Learning - Department of Computer Science - University of Virginia\n",
    "\"The original MNIST dataset contains a lot of handwritten digits. Members of the AI/ML/Data Science community love this dataset and use it as a benchmark to validate their algorithms. In fact, MNIST is often the first dataset researchers try. \"If it doesn't work on MNIST, it won't work at all\", they said. \"Well, if it does work on MNIST, it may still fail on others.\" - **Zalando Research, Github Repo.**\"\n",
    "\n",
    "Fashion-MNIST is a dataset of Zalando's article images—consisting of a training set of 60,000 examples and a test set of 10,000 examples. Each example is a 28x28 grayscale image, associated with a label from 10 classes. We intend Fashion-MNIST to serve as a direct drop-in replacement for the original MNIST dataset for benchmarking machine learning algorithms. It shares the same image size and structure of training and testing splits.\n",
    "\n",
    "![Here's an example how the data looks (each class takes three-rows):](https://github.com/zalandoresearch/fashion-mnist/raw/master/doc/img/fashion-mnist-sprite.png)\n",
    "\n",
    "In this assignment, you will attempt to benchmarking the Fashion-MNIST using ANNs. You must use it to train some neural networks on TensorFlow and predict the final output of 10 classes. For deliverables, you must write code in Python and submit this Jupyter Notebook file (.ipynb) to earn a total of 100 pts. You will gain points depending on how you perform in the following sections.\n"
   ]
  },
  {
   "cell_type": "markdown",
   "metadata": {},
   "source": [
    "---\n",
    "## 1. PRE-PROCESSING THE DATA (20 pts)\n",
    "\n",
    "You can load the Fashion MNIST directly from Tensorflow using the folliwng code:\n",
    "    tf.keras.datasets.fashion_mnist.load_data();\n",
    "\n",
    "Write some code to load the data file and take a quick look at the dataset, and output the following:\n",
    "- How big is your dataset? (regarding MB)\n",
    "- How many entries does it have?\n",
    "- How many features does it have?\n",
    "- What are some basic statistics you can learn right away about this dataset?\n",
    "\n",
    "**Large-scale Visualization:** Demonstrate that this dataset is indeed a complex and high dimensional worthy of an attempt on TensorFlow. Again, is there any non-linearly separation among the classes? Discover and plot out all features among the features."
   ]
  },
  {
   "cell_type": "code",
   "execution_count": 22,
   "metadata": {},
   "outputs": [
    {
     "name": "stdout",
     "output_type": "stream",
     "text": [
      "Size of dataset (MB): 52.40\n",
      "Number of entries: 70000\n",
      "Number of features: 784\n"
     ]
    },
    {
     "data": {
      "image/png": "[encoded data removed]",
      "text/plain": [
       "<Figure size 432x288 with 2 Axes>"
      ]
     },
     "metadata": {
      "needs_background": "light"
     },
     "output_type": "display_data"
    },
    {
     "data": {
      "image/png": "[encoded data removed]",
      "text/plain": [
       "<Figure size 432x288 with 2 Axes>"
      ]
     },
     "metadata": {
      "needs_background": "light"
     },
     "output_type": "display_data"
    },
    {
     "data": {
      "image/png": "[encoded data removed]",
      "text/plain": [
       "<Figure size 432x288 with 2 Axes>"
      ]
     },
     "metadata": {
      "needs_background": "light"
     },
     "output_type": "display_data"
    }
   ],
   "source": [
    "# You might want to use the following package\n",
    "import numpy as np\n",
    "import pandas as pd\n",
    "import tensorflow as tf\n",
    "import matplotlib.pyplot as plt\n",
    "from tensorflow import keras\n",
    "from sklearn.metrics import confusion_matrix\n",
    "from sklearn.metrics import accuracy_score\n",
    "\n",
    "# Your code goes here for this section.\n",
    "(X_train, y_train), (X_test, y_test) = tf.keras.datasets.fashion_mnist.load_data()\n",
    "\n",
    "# Print dataset statistics\n",
    "print(\"Size of dataset (MB): %.2f\" % ((X_train.nbytes + y_train.nbytes + X_test.nbytes + y_test.nbytes) / (2 ** 20)))\n",
    "print(\"Number of entries:\", len(X_train) + len(X_test))\n",
    "print(\"Number of features:\", X_train[0].shape[0] * X_train[0].shape[1])\n",
    "\n",
    "plt.figure()\n",
    "plt.imshow(np.mean(X_train, axis=0))\n",
    "plt.title(\"Mean of Images\")\n",
    "plt.axis('off')\n",
    "plt.colorbar()\n",
    "\n",
    "plt.figure()\n",
    "plt.imshow(np.min(X_train, axis=0))\n",
    "plt.title(\"Minimum of Images\")\n",
    "plt.axis('off')\n",
    "plt.colorbar()\n",
    "\n",
    "plt.figure()\n",
    "plt.imshow(np.max(X_train, axis=0))\n",
    "plt.title(\"Maximum of Images\")\n",
    "plt.axis('off')\n",
    "plt.colorbar()\n",
    "\n",
    "# Scale data down to a fraction between 0 and 1\n",
    "X_train = X_train / 255\n",
    "X_test = X_test / 255\n",
    "\n",
    "labels = [\"T-shirt/top\", \"Trouser\", \"Pullover\", \"Dress\", \"Coat\", \"Sandal\",\n",
    "          \"Shirt\", \"Sneaker\", \"Bag\", \"Ankle Boot\"]"
   ]
  },
  {
   "cell_type": "markdown",
   "metadata": {},
   "source": [
    "- - -\n",
    "## 2. CONSTRUCTION PHASE (25 pts)\n",
    "\n",
    "Define at least three networks with different structures: Ensure the input layer has the right number of inputs. The best structure often is found through a process of trial and error experimentation:\n",
    "- You may start with a fully connected network structure with two hidden layers.\n",
    "- You may try a few activation functions to see if they affect the performance.\n",
    "- You may use various optimizers to tweak the model parameters to minimize the cost function."
   ]
  },
  {
   "cell_type": "code",
   "execution_count": 23,
   "metadata": {},
   "outputs": [],
   "source": [
    "# Your code goes here\n",
    "\n",
    "ann1 = keras.Sequential([\n",
    "    keras.layers.Flatten(input_shape=(28, 28)),\n",
    "    keras.layers.Dense(128, activation=tf.nn.relu),\n",
    "    keras.layers.Dense(10, activation=tf.nn.softmax)\n",
    "])\n",
    "\n",
    "ann2 = keras.Sequential([\n",
    "    keras.layers.Flatten(input_shape=(28, 28)),\n",
    "    keras.layers.Dense(784, activation=tf.nn.sigmoid),\n",
    "    keras.layers.Dense(10, activation=tf.nn.softmax)\n",
    "])\n",
    "\n",
    "ann3 = keras.Sequential([\n",
    "    keras.layers.Flatten(input_shape=(28, 28)),\n",
    "    keras.layers.Dropout(0.1),\n",
    "    keras.layers.Dense(784, activation=tf.nn.sigmoid),\n",
    "    keras.layers.Dense(28, activation=tf.nn.sigmoid),\n",
    "    keras.layers.Dense(10, activation=tf.nn.softmax)\n",
    "])\n",
    "\n",
    "ann4 = keras.Sequential([\n",
    "    keras.layers.Flatten(input_shape=(28, 28)),\n",
    "    keras.layers.Dense(100, activation=tf.nn.sigmoid),\n",
    "    keras.layers.Dense(90, activation=tf.nn.sigmoid),\n",
    "    keras.layers.Dense(80, activation=tf.nn.sigmoid),\n",
    "    keras.layers.Dense(70, activation=tf.nn.sigmoid),\n",
    "    keras.layers.Dense(60, activation=tf.nn.sigmoid),\n",
    "    keras.layers.Dense(50, activation=tf.nn.sigmoid),\n",
    "    keras.layers.Dense(40, activation=tf.nn.sigmoid),\n",
    "    keras.layers.Dense(30, activation=tf.nn.sigmoid),\n",
    "    keras.layers.Dense(20, activation=tf.nn.sigmoid),\n",
    "    keras.layers.Dense(10, activation=tf.nn.softmax)\n",
    "])\n",
    "\n",
    "models = [ann1, ann2, ann3, ann4]\n",
    "\n",
    "for model in models:\n",
    "    model.compile(optimizer=tf.train.AdamOptimizer(),\n",
    "            loss=\"sparse_categorical_crossentropy\",\n",
    "            metrics=[\"accuracy\"])\n",
    "\n",
    "# ann1.compile(optimizer=tf.train.AdamOptimizer(),\n",
    "#             loss=\"sparse_categorical_crossentropy\",\n",
    "#             metrics=[\"accuracy\"])\n",
    "\n",
    "# ann2.compile(optimizer=tf.train.AdamOptimizer(),\n",
    "#              loss=\"sparse_categorical_crossentropy\",\n",
    "#              metrics=[\"accuracy\"])\n",
    "\n",
    "# ann3.compile(optimizer=tf.train.AdamOptimizer(),\n",
    "#              loss=\"sparse_categorical_crossentropy\",\n",
    "#              metrics=[\"accuracy\"])\n",
    "\n",
    "# ann4.compile(optimizer=tf.train.AdamOptimizer(),\n",
    "#              loss=\"sparse_categorical_crossentropy\",\n",
    "#              metrics=[\"accuracy\"])"
   ]
  },
  {
   "cell_type": "markdown",
   "metadata": {},
   "source": [
    "- - -\n",
    "## 3. EXECUTION PHASE (30 pts)\n",
    "\n",
    "For each of the three models of your neural networks, open a TensorFlow session, define the number of epochs and size of the training batch (20 pts): For each model, you must compute the performance measures: Confusion Matrix and Class Accuracy.\n",
    "- Which one yields the best performance measure for your dataset?\n",
    "- You must be able to save the trained model and load it from disk to evaluate a test set\n"
   ]
  },
  {
   "cell_type": "code",
   "execution_count": 25,
   "metadata": {},
   "outputs": [
    {
     "name": "stdout",
     "output_type": "stream",
     "text": [
      "Epoch 1/5\n",
      "60000/60000 [==============================] - 3s 57us/step - loss: 0.2800 - acc: 0.8960\n",
      "Epoch 2/5\n",
      "60000/60000 [==============================] - 3s 57us/step - loss: 0.2680 - acc: 0.8999\n",
      "Epoch 3/5\n",
      "60000/60000 [==============================] - 3s 57us/step - loss: 0.2580 - acc: 0.9037\n",
      "Epoch 4/5\n",
      "60000/60000 [==============================] - 3s 57us/step - loss: 0.2456 - acc: 0.9092\n",
      "Epoch 5/5\n",
      "60000/60000 [==============================] - 3s 57us/step - loss: 0.2382 - acc: 0.9103\n",
      "Model 0 accuracy: 0.8813\n",
      "Model 0 confusion matrix:\n",
      " [[853   2   4   9   4   1 119   0   8   0]\n",
      " [  1 975   2  15   3   0   4   0   0   0]\n",
      " [ 13   2 736   4 114   0 129   0   2   0]\n",
      " [ 23  13   8 856  43   0  52   0   5   0]\n",
      " [  0   3  79  17 784   0 115   0   2   0]\n",
      " [  0   0   0   1   0 961   0  24   1  13]\n",
      " [117   3  59  12  49   0 750   0  10   0]\n",
      " [  0   0   0   0   0   9   0 962   0  29]\n",
      " [  4   0   6   3   3   4   5   2 973   0]\n",
      " [  0   0   0   1   0   7   1  28   0 963]]\n",
      "Epoch 1/5\n",
      "60000/60000 [==============================] - 10s 169us/step - loss: 0.5028 - acc: 0.8179\n",
      "Epoch 2/5\n",
      "60000/60000 [==============================] - 10s 160us/step - loss: 0.3838 - acc: 0.8605\n",
      "Epoch 3/5\n",
      "60000/60000 [==============================] - 9s 157us/step - loss: 0.3442 - acc: 0.8744\n",
      "Epoch 4/5\n",
      "60000/60000 [==============================] - 9s 157us/step - loss: 0.3139 - acc: 0.8839\n",
      "Epoch 5/5\n",
      "60000/60000 [==============================] - 10s 163us/step - loss: 0.2906 - acc: 0.8921\n",
      "Model 1 accuracy: 0.8793\n",
      "Model 1 confusion matrix:\n",
      " [[913   1  10  17   4   1  50   0   4   0]\n",
      " [  3 969   0  22   4   0   2   0   0   0]\n",
      " [ 25   0 772  18 128   0  57   0   0   0]\n",
      " [ 53  13   6 873  38   0  14   0   3   0]\n",
      " [  1   1  75  32 861   0  30   0   0   0]\n",
      " [  0   0   0   1   0 960   0  18   1  20]\n",
      " [204   1  78  28  98   0 579   0  12   0]\n",
      " [  0   0   0   0   0  36   0 933   0  31]\n",
      " [  8   0   1   7   6   3   2   3 970   0]\n",
      " [  0   0   0   1   0   6   1  29   0 963]]\n",
      "Epoch 1/5\n",
      "60000/60000 [==============================] - 12s 202us/step - loss: 0.6169 - acc: 0.8029\n",
      "Epoch 2/5\n",
      "60000/60000 [==============================] - 11s 187us/step - loss: 0.4068 - acc: 0.8536\n",
      "Epoch 3/5\n",
      "60000/60000 [==============================] - 11s 179us/step - loss: 0.3657 - acc: 0.8674\n",
      "Epoch 4/5\n",
      "60000/60000 [==============================] - 11s 181us/step - loss: 0.3374 - acc: 0.8760\n",
      "Epoch 5/5\n",
      "60000/60000 [==============================] - 11s 186us/step - loss: 0.3187 - acc: 0.8822\n",
      "Model 2 accuracy: 0.8692\n",
      "Model 2 confusion matrix:\n",
      " [[793   2   4  23   3   1 163   0  11   0]\n",
      " [  4 964   0  20   3   0   7   0   2   0]\n",
      " [ 11   3 698  12 128   1 143   0   4   0]\n",
      " [ 24   5   4 893  31   0  40   0   3   0]\n",
      " [  0   1  72  30 813   0  82   0   2   0]\n",
      " [  0   0   0   1   0 897   0  63   1  38]\n",
      " [103   1  45  26  69   0 738   0  18   0]\n",
      " [  0   0   0   0   0   4   0 983   0  13]\n",
      " [  2   0   0   3   5   1   5   5 979   0]\n",
      " [  0   0   0   0   0   0   1  65   0 934]]\n",
      "Epoch 1/5\n",
      "60000/60000 [==============================] - 5s 91us/step - loss: 1.8207 - acc: 0.1861\n",
      "Epoch 2/5\n",
      "60000/60000 [==============================] - 5s 87us/step - loss: 1.7101 - acc: 0.1971\n",
      "Epoch 3/5\n",
      "60000/60000 [==============================] - 6s 92us/step - loss: 1.7183 - acc: 0.1999\n",
      "Epoch 4/5\n",
      "60000/60000 [==============================] - 5s 88us/step - loss: 1.7025 - acc: 0.1975\n",
      "Epoch 5/5\n",
      "60000/60000 [==============================] - 5s 89us/step - loss: 1.6875 - acc: 0.1975\n",
      "Model 3 accuracy: 0.1985\n",
      "Model 3 confusion matrix:\n",
      " [[   0    0    0    0  983   17    0    0    0    0]\n",
      " [   0    0    0    0  998    2    0    0    0    0]\n",
      " [   0    0    0    0  985   15    0    0    0    0]\n",
      " [   0    0    0    0  994    6    0    0    0    0]\n",
      " [   0    0    0    0  986   13    0    0    1    0]\n",
      " [   0    0    0    0    1  999    0    0    0    0]\n",
      " [   0    0    0    0  961   39    0    0    0    0]\n",
      " [   0    0    0    0    0 1000    0    0    0    0]\n",
      " [   0    0    0    0   45  955    0    0    0    0]\n",
      " [   0    0    0    0    0 1000    0    0    0    0]]\n"
     ]
    }
   ],
   "source": [
    "# Your code goes here\n",
    "\n",
    "#ann1.fit(X_train, y_train, epochs=5)\n",
    "#ann2.fit(X_train, y_train, epochs=5)\n",
    "#ann3.fit(X_train, y_train, epochs=5)\n",
    "#ann4.fit(X_train, y_train, epochs=5)\n",
    "\n",
    "#test1_loss, test1_acc = ann1.evaluate(X_test, y_test)\n",
    "#test2_loss, test2_acc = ann2.evaluate(X_test, y_test)\n",
    "#test3_loss, test3_acc = ann3.evaluate(X_test, y_test)\n",
    "#test4_loss, test4_acc = ann3.evaluate(X_test, y_test)\n",
    "#print(\"Accuracy:\", test4_acc)\n",
    "\n",
    "# y_pred = ann3.predict_classes(X_test)\n",
    "# confusion_matrix(y_test, y_pred)\n",
    "\n",
    "i = 0\n",
    "for model in models:\n",
    "    model.fit(X_train, y_train, epochs=5)\n",
    "    y_pred = model.predict_classes(X_test)\n",
    "    print(\"Model\", i, \"accuracy:\", accuracy_score(y_test, y_pred))\n",
    "    print(\"Model\", i, \"confusion matrix:\\n\", confusion_matrix(y_test, y_pred))\n",
    "    i += 1"
   ]
  },
  {
   "cell_type": "markdown",
   "metadata": {},
   "source": [
    "- - -\n",
    "## 4. FINETUNING THE NETWORK (20 pts)\n",
    "\n",
    "You may be able to compare the performance of your method agaist other ML methods below:\n",
    "http://fashion-mnist.s3-website.eu-central-1.amazonaws.com\n",
    "\n",
    "To improve the performance of your ANN, you can use grid search with cross-validation to find the right set of hyperparameters, but that would take a lot of times (days, sometimes weeks). Therefore, you must make some decision of which reasonable values for each hyperparameter, so that you can restrict the search space. Here's a few decision about the network you have to made and justify:\n",
    "\n",
    "- The number of hidden layers. Why did you pick this many?\n",
    "- The number of neurons per hidden layers. Provide some justifiable reasons\n",
    "- Which activation functions need to be used? Why?\n",
    "\n"
   ]
  },
  {
   "cell_type": "markdown",
   "metadata": {},
   "source": [
    "- - -\n",
    "## 5. OUTLOOK (5 pts)\n",
    "\n",
    "Plan for the outlook of your system: This will lead to the direction of your future project:\n",
    "- Did your neural network outperform other \"traditional ML technique? Why/why not?\n",
    "- Does your model work well for the future? If not, which model should be further investigated?\n",
    "- Do you satisfy with your system? What do you think needed to improve?\n",
    "\n"
   ]
  },
  {
   "cell_type": "markdown",
   "metadata": {},
   "source": [
    "- - - \n",
    "### NEED HELP?"
   ]
  },
  {
   "cell_type": "markdown",
   "metadata": {},
   "source": [
    "In case you get stuck in any step in the process, you may find some useful information from:\n",
    "\n",
    " * Consult my lectures and/or the textbook\n",
    " * Talk to the TA, they are available and there to help you during [office hour](https://docs.google.com/document/d/15qB84xjaS-uRJmfKmmQuCz38bLMFaoqdbuRLoZEdOYI/edit#heading=h.72k1pvft525n)\n",
    " * Come talk to me or email me <nn4pj@virginia.edu> with subject starting \"CS6316 Assignment 3:...\".\n",
    " * More on the Fashion-MNIST to be found here: https://hanxiao.github.io/2018/09/28/Fashion-MNIST-Year-In-Review/\n",
    "\n",
    "Best of luck and have fun!"
   ]
  },
  {
   "cell_type": "code",
   "execution_count": null,
   "metadata": {},
   "outputs": [],
   "source": []
  }
 ],
 "metadata": {
  "kernelspec": {
   "display_name": "Python 3",
   "language": "python",
   "name": "python3"
  },
  "language_info": {
   "codemirror_mode": {
    "name": "ipython",
    "version": 3
   },
   "file_extension": ".py",
   "mimetype": "text/x-python",
   "name": "python",
   "nbconvert_exporter": "python",
   "pygments_lexer": "ipython3",
   "version": "3.6.7"
  }
 },
 "nbformat": 4,
 "nbformat_minor": 2
}
